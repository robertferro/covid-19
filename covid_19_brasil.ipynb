{
  "nbformat": 4,
  "nbformat_minor": 0,
  "metadata": {
    "colab": {
      "name": "covid-19_brasil.ipynb",
      "provenance": [],
      "collapsed_sections": []
    },
    "kernelspec": {
      "name": "python3",
      "display_name": "Python 3"
    },
    "language_info": {
      "name": "python"
    }
  },
  "cells": [
    {
      "cell_type": "markdown",
      "metadata": {
        "id": "JUYYoan9tufU"
      },
      "source": [
        "# COVID-19 BRASIL \n",
        "\n",
        "- Utilizando os datasets que do JOHNS HOPKINS link: https://github.com/CSSEGISandData/COVID-19, foram feitas análises e criado um dataset apenas com os dados da pandemia no Brasil."
      ]
    },
    {
      "cell_type": "markdown",
      "metadata": {
        "id": "vK7yBWDWuIs7"
      },
      "source": [
        "## 1.0 Importando as bibliotecas e carregando os arquivos."
      ]
    },
    {
      "cell_type": "code",
      "metadata": {
        "id": "t9X2iXVMKUVY"
      },
      "source": [
        "import pandas as pd\n",
        "import numpy as np\n",
        "import seaborn as sns\n",
        "import matplotlib.pyplot as plt"
      ],
      "execution_count": 1,
      "outputs": []
    },
    {
      "cell_type": "code",
      "metadata": {
        "id": "bvJFqpjiKcp_"
      },
      "source": [
        "url='https://raw.githubusercontent.com/CSSEGISandData/COVID-19/master/csse_covid_19_data/csse_covid_19_time_series/time_series_covid19_confirmed_global.csv'"
      ],
      "execution_count": 2,
      "outputs": []
    },
    {
      "cell_type": "code",
      "metadata": {
        "id": "YZPlE3NOSt_8"
      },
      "source": [
        "url_2='https://raw.githubusercontent.com/CSSEGISandData/COVID-19/master/csse_covid_19_data/csse_covid_19_time_series/time_series_covid19_deaths_global.csv'"
      ],
      "execution_count": 3,
      "outputs": []
    },
    {
      "cell_type": "code",
      "metadata": {
        "id": "v4ztKYEQYd0O"
      },
      "source": [
        "url_3= 'https://raw.githubusercontent.com/CSSEGISandData/COVID-19/master/csse_covid_19_data/csse_covid_19_time_series/time_series_covid19_recovered_global.csv'"
      ],
      "execution_count": 4,
      "outputs": []
    },
    {
      "cell_type": "code",
      "metadata": {
        "id": "OThuNVyPZ5l8"
      },
      "source": [
        "dados_covid19 = pd.read_csv(url, sep=',')"
      ],
      "execution_count": 5,
      "outputs": []
    },
    {
      "cell_type": "code",
      "metadata": {
        "id": "bqJWWP7rSwWK"
      },
      "source": [
        "dados_deaths_covid19 = pd.read_csv(url_2, sep=',')"
      ],
      "execution_count": 6,
      "outputs": []
    },
    {
      "cell_type": "code",
      "metadata": {
        "id": "I2f2QEjuKfYs"
      },
      "source": [
        "dados_recovered_covid19 = pd.read_csv(url_3, sep=',')"
      ],
      "execution_count": 7,
      "outputs": []
    },
    {
      "cell_type": "markdown",
      "metadata": {
        "id": "Rj1e2CpfS5hH"
      },
      "source": [
        "## 2.0 Tratando os dados do dataset dos casos confirmados da covid 19."
      ]
    },
    {
      "cell_type": "code",
      "metadata": {
        "colab": {
          "base_uri": "https://localhost:8080/",
          "height": 284
        },
        "id": "8UIB64apPAIk",
        "outputId": "60eaaa66-1f9f-431f-bf34-43cc5a2e7537"
      },
      "source": [
        "dados_covid19 = dados_covid19.drop(columns=['Province/State', 'Lat','Long'])\n",
        "dados_covid19 = dados_covid19.set_index('Country/Region')\n",
        "dados_covid19.head()"
      ],
      "execution_count": 8,
      "outputs": [
        {
          "output_type": "execute_result",
          "data": {
            "text/html": [
              "<div>\n",
              "<style scoped>\n",
              "    .dataframe tbody tr th:only-of-type {\n",
              "        vertical-align: middle;\n",
              "    }\n",
              "\n",
              "    .dataframe tbody tr th {\n",
              "        vertical-align: top;\n",
              "    }\n",
              "\n",
              "    .dataframe thead th {\n",
              "        text-align: right;\n",
              "    }\n",
              "</style>\n",
              "<table border=\"1\" class=\"dataframe\">\n",
              "  <thead>\n",
              "    <tr style=\"text-align: right;\">\n",
              "      <th></th>\n",
              "      <th>1/22/20</th>\n",
              "      <th>1/23/20</th>\n",
              "      <th>1/24/20</th>\n",
              "      <th>1/25/20</th>\n",
              "      <th>1/26/20</th>\n",
              "      <th>1/27/20</th>\n",
              "      <th>1/28/20</th>\n",
              "      <th>1/29/20</th>\n",
              "      <th>1/30/20</th>\n",
              "      <th>1/31/20</th>\n",
              "      <th>2/1/20</th>\n",
              "      <th>2/2/20</th>\n",
              "      <th>2/3/20</th>\n",
              "      <th>2/4/20</th>\n",
              "      <th>2/5/20</th>\n",
              "      <th>2/6/20</th>\n",
              "      <th>2/7/20</th>\n",
              "      <th>2/8/20</th>\n",
              "      <th>2/9/20</th>\n",
              "      <th>2/10/20</th>\n",
              "      <th>2/11/20</th>\n",
              "      <th>2/12/20</th>\n",
              "      <th>2/13/20</th>\n",
              "      <th>2/14/20</th>\n",
              "      <th>2/15/20</th>\n",
              "      <th>2/16/20</th>\n",
              "      <th>2/17/20</th>\n",
              "      <th>2/18/20</th>\n",
              "      <th>2/19/20</th>\n",
              "      <th>2/20/20</th>\n",
              "      <th>2/21/20</th>\n",
              "      <th>2/22/20</th>\n",
              "      <th>2/23/20</th>\n",
              "      <th>2/24/20</th>\n",
              "      <th>2/25/20</th>\n",
              "      <th>2/26/20</th>\n",
              "      <th>2/27/20</th>\n",
              "      <th>2/28/20</th>\n",
              "      <th>2/29/20</th>\n",
              "      <th>3/1/20</th>\n",
              "      <th>...</th>\n",
              "      <th>2/13/21</th>\n",
              "      <th>2/14/21</th>\n",
              "      <th>2/15/21</th>\n",
              "      <th>2/16/21</th>\n",
              "      <th>2/17/21</th>\n",
              "      <th>2/18/21</th>\n",
              "      <th>2/19/21</th>\n",
              "      <th>2/20/21</th>\n",
              "      <th>2/21/21</th>\n",
              "      <th>2/22/21</th>\n",
              "      <th>2/23/21</th>\n",
              "      <th>2/24/21</th>\n",
              "      <th>2/25/21</th>\n",
              "      <th>2/26/21</th>\n",
              "      <th>2/27/21</th>\n",
              "      <th>2/28/21</th>\n",
              "      <th>3/1/21</th>\n",
              "      <th>3/2/21</th>\n",
              "      <th>3/3/21</th>\n",
              "      <th>3/4/21</th>\n",
              "      <th>3/5/21</th>\n",
              "      <th>3/6/21</th>\n",
              "      <th>3/7/21</th>\n",
              "      <th>3/8/21</th>\n",
              "      <th>3/9/21</th>\n",
              "      <th>3/10/21</th>\n",
              "      <th>3/11/21</th>\n",
              "      <th>3/12/21</th>\n",
              "      <th>3/13/21</th>\n",
              "      <th>3/14/21</th>\n",
              "      <th>3/15/21</th>\n",
              "      <th>3/16/21</th>\n",
              "      <th>3/17/21</th>\n",
              "      <th>3/18/21</th>\n",
              "      <th>3/19/21</th>\n",
              "      <th>3/20/21</th>\n",
              "      <th>3/21/21</th>\n",
              "      <th>3/22/21</th>\n",
              "      <th>3/23/21</th>\n",
              "      <th>3/24/21</th>\n",
              "    </tr>\n",
              "    <tr>\n",
              "      <th>Country/Region</th>\n",
              "      <th></th>\n",
              "      <th></th>\n",
              "      <th></th>\n",
              "      <th></th>\n",
              "      <th></th>\n",
              "      <th></th>\n",
              "      <th></th>\n",
              "      <th></th>\n",
              "      <th></th>\n",
              "      <th></th>\n",
              "      <th></th>\n",
              "      <th></th>\n",
              "      <th></th>\n",
              "      <th></th>\n",
              "      <th></th>\n",
              "      <th></th>\n",
              "      <th></th>\n",
              "      <th></th>\n",
              "      <th></th>\n",
              "      <th></th>\n",
              "      <th></th>\n",
              "      <th></th>\n",
              "      <th></th>\n",
              "      <th></th>\n",
              "      <th></th>\n",
              "      <th></th>\n",
              "      <th></th>\n",
              "      <th></th>\n",
              "      <th></th>\n",
              "      <th></th>\n",
              "      <th></th>\n",
              "      <th></th>\n",
              "      <th></th>\n",
              "      <th></th>\n",
              "      <th></th>\n",
              "      <th></th>\n",
              "      <th></th>\n",
              "      <th></th>\n",
              "      <th></th>\n",
              "      <th></th>\n",
              "      <th></th>\n",
              "      <th></th>\n",
              "      <th></th>\n",
              "      <th></th>\n",
              "      <th></th>\n",
              "      <th></th>\n",
              "      <th></th>\n",
              "      <th></th>\n",
              "      <th></th>\n",
              "      <th></th>\n",
              "      <th></th>\n",
              "      <th></th>\n",
              "      <th></th>\n",
              "      <th></th>\n",
              "      <th></th>\n",
              "      <th></th>\n",
              "      <th></th>\n",
              "      <th></th>\n",
              "      <th></th>\n",
              "      <th></th>\n",
              "      <th></th>\n",
              "      <th></th>\n",
              "      <th></th>\n",
              "      <th></th>\n",
              "      <th></th>\n",
              "      <th></th>\n",
              "      <th></th>\n",
              "      <th></th>\n",
              "      <th></th>\n",
              "      <th></th>\n",
              "      <th></th>\n",
              "      <th></th>\n",
              "      <th></th>\n",
              "      <th></th>\n",
              "      <th></th>\n",
              "      <th></th>\n",
              "      <th></th>\n",
              "      <th></th>\n",
              "      <th></th>\n",
              "      <th></th>\n",
              "      <th></th>\n",
              "    </tr>\n",
              "  </thead>\n",
              "  <tbody>\n",
              "    <tr>\n",
              "      <th>Afghanistan</th>\n",
              "      <td>0</td>\n",
              "      <td>0</td>\n",
              "      <td>0</td>\n",
              "      <td>0</td>\n",
              "      <td>0</td>\n",
              "      <td>0</td>\n",
              "      <td>0</td>\n",
              "      <td>0</td>\n",
              "      <td>0</td>\n",
              "      <td>0</td>\n",
              "      <td>0</td>\n",
              "      <td>0</td>\n",
              "      <td>0</td>\n",
              "      <td>0</td>\n",
              "      <td>0</td>\n",
              "      <td>0</td>\n",
              "      <td>0</td>\n",
              "      <td>0</td>\n",
              "      <td>0</td>\n",
              "      <td>0</td>\n",
              "      <td>0</td>\n",
              "      <td>0</td>\n",
              "      <td>0</td>\n",
              "      <td>0</td>\n",
              "      <td>0</td>\n",
              "      <td>0</td>\n",
              "      <td>0</td>\n",
              "      <td>0</td>\n",
              "      <td>0</td>\n",
              "      <td>0</td>\n",
              "      <td>0</td>\n",
              "      <td>0</td>\n",
              "      <td>0</td>\n",
              "      <td>1</td>\n",
              "      <td>1</td>\n",
              "      <td>1</td>\n",
              "      <td>1</td>\n",
              "      <td>1</td>\n",
              "      <td>1</td>\n",
              "      <td>1</td>\n",
              "      <td>...</td>\n",
              "      <td>55473</td>\n",
              "      <td>55492</td>\n",
              "      <td>55514</td>\n",
              "      <td>55518</td>\n",
              "      <td>55540</td>\n",
              "      <td>55557</td>\n",
              "      <td>55575</td>\n",
              "      <td>55580</td>\n",
              "      <td>55604</td>\n",
              "      <td>55617</td>\n",
              "      <td>55646</td>\n",
              "      <td>55664</td>\n",
              "      <td>55680</td>\n",
              "      <td>55696</td>\n",
              "      <td>55707</td>\n",
              "      <td>55714</td>\n",
              "      <td>55733</td>\n",
              "      <td>55759</td>\n",
              "      <td>55770</td>\n",
              "      <td>55775</td>\n",
              "      <td>55827</td>\n",
              "      <td>55840</td>\n",
              "      <td>55847</td>\n",
              "      <td>55876</td>\n",
              "      <td>55876</td>\n",
              "      <td>55894</td>\n",
              "      <td>55917</td>\n",
              "      <td>55959</td>\n",
              "      <td>55959</td>\n",
              "      <td>55985</td>\n",
              "      <td>55985</td>\n",
              "      <td>55995</td>\n",
              "      <td>56016</td>\n",
              "      <td>56044</td>\n",
              "      <td>56069</td>\n",
              "      <td>56093</td>\n",
              "      <td>56103</td>\n",
              "      <td>56153</td>\n",
              "      <td>56177</td>\n",
              "      <td>56192</td>\n",
              "    </tr>\n",
              "    <tr>\n",
              "      <th>Albania</th>\n",
              "      <td>0</td>\n",
              "      <td>0</td>\n",
              "      <td>0</td>\n",
              "      <td>0</td>\n",
              "      <td>0</td>\n",
              "      <td>0</td>\n",
              "      <td>0</td>\n",
              "      <td>0</td>\n",
              "      <td>0</td>\n",
              "      <td>0</td>\n",
              "      <td>0</td>\n",
              "      <td>0</td>\n",
              "      <td>0</td>\n",
              "      <td>0</td>\n",
              "      <td>0</td>\n",
              "      <td>0</td>\n",
              "      <td>0</td>\n",
              "      <td>0</td>\n",
              "      <td>0</td>\n",
              "      <td>0</td>\n",
              "      <td>0</td>\n",
              "      <td>0</td>\n",
              "      <td>0</td>\n",
              "      <td>0</td>\n",
              "      <td>0</td>\n",
              "      <td>0</td>\n",
              "      <td>0</td>\n",
              "      <td>0</td>\n",
              "      <td>0</td>\n",
              "      <td>0</td>\n",
              "      <td>0</td>\n",
              "      <td>0</td>\n",
              "      <td>0</td>\n",
              "      <td>0</td>\n",
              "      <td>0</td>\n",
              "      <td>0</td>\n",
              "      <td>0</td>\n",
              "      <td>0</td>\n",
              "      <td>0</td>\n",
              "      <td>0</td>\n",
              "      <td>...</td>\n",
              "      <td>91987</td>\n",
              "      <td>93075</td>\n",
              "      <td>93850</td>\n",
              "      <td>94651</td>\n",
              "      <td>95726</td>\n",
              "      <td>96838</td>\n",
              "      <td>97909</td>\n",
              "      <td>99062</td>\n",
              "      <td>100246</td>\n",
              "      <td>101285</td>\n",
              "      <td>102306</td>\n",
              "      <td>103327</td>\n",
              "      <td>104313</td>\n",
              "      <td>105229</td>\n",
              "      <td>106215</td>\n",
              "      <td>107167</td>\n",
              "      <td>107931</td>\n",
              "      <td>108823</td>\n",
              "      <td>109674</td>\n",
              "      <td>110521</td>\n",
              "      <td>111301</td>\n",
              "      <td>112078</td>\n",
              "      <td>112897</td>\n",
              "      <td>113580</td>\n",
              "      <td>114209</td>\n",
              "      <td>114840</td>\n",
              "      <td>115442</td>\n",
              "      <td>116123</td>\n",
              "      <td>116821</td>\n",
              "      <td>117474</td>\n",
              "      <td>118017</td>\n",
              "      <td>118492</td>\n",
              "      <td>118938</td>\n",
              "      <td>119528</td>\n",
              "      <td>120022</td>\n",
              "      <td>120541</td>\n",
              "      <td>121200</td>\n",
              "      <td>121544</td>\n",
              "      <td>121847</td>\n",
              "      <td>122295</td>\n",
              "    </tr>\n",
              "    <tr>\n",
              "      <th>Algeria</th>\n",
              "      <td>0</td>\n",
              "      <td>0</td>\n",
              "      <td>0</td>\n",
              "      <td>0</td>\n",
              "      <td>0</td>\n",
              "      <td>0</td>\n",
              "      <td>0</td>\n",
              "      <td>0</td>\n",
              "      <td>0</td>\n",
              "      <td>0</td>\n",
              "      <td>0</td>\n",
              "      <td>0</td>\n",
              "      <td>0</td>\n",
              "      <td>0</td>\n",
              "      <td>0</td>\n",
              "      <td>0</td>\n",
              "      <td>0</td>\n",
              "      <td>0</td>\n",
              "      <td>0</td>\n",
              "      <td>0</td>\n",
              "      <td>0</td>\n",
              "      <td>0</td>\n",
              "      <td>0</td>\n",
              "      <td>0</td>\n",
              "      <td>0</td>\n",
              "      <td>0</td>\n",
              "      <td>0</td>\n",
              "      <td>0</td>\n",
              "      <td>0</td>\n",
              "      <td>0</td>\n",
              "      <td>0</td>\n",
              "      <td>0</td>\n",
              "      <td>0</td>\n",
              "      <td>0</td>\n",
              "      <td>1</td>\n",
              "      <td>1</td>\n",
              "      <td>1</td>\n",
              "      <td>1</td>\n",
              "      <td>1</td>\n",
              "      <td>1</td>\n",
              "      <td>...</td>\n",
              "      <td>110513</td>\n",
              "      <td>110711</td>\n",
              "      <td>110894</td>\n",
              "      <td>111069</td>\n",
              "      <td>111247</td>\n",
              "      <td>111418</td>\n",
              "      <td>111600</td>\n",
              "      <td>111764</td>\n",
              "      <td>111917</td>\n",
              "      <td>112094</td>\n",
              "      <td>112279</td>\n",
              "      <td>112461</td>\n",
              "      <td>112622</td>\n",
              "      <td>112805</td>\n",
              "      <td>112960</td>\n",
              "      <td>113092</td>\n",
              "      <td>113255</td>\n",
              "      <td>113430</td>\n",
              "      <td>113593</td>\n",
              "      <td>113761</td>\n",
              "      <td>113948</td>\n",
              "      <td>114104</td>\n",
              "      <td>114234</td>\n",
              "      <td>114382</td>\n",
              "      <td>114543</td>\n",
              "      <td>114681</td>\n",
              "      <td>114851</td>\n",
              "      <td>115008</td>\n",
              "      <td>115143</td>\n",
              "      <td>115265</td>\n",
              "      <td>115410</td>\n",
              "      <td>115540</td>\n",
              "      <td>115688</td>\n",
              "      <td>115842</td>\n",
              "      <td>115970</td>\n",
              "      <td>116066</td>\n",
              "      <td>116157</td>\n",
              "      <td>116255</td>\n",
              "      <td>116349</td>\n",
              "      <td>116438</td>\n",
              "    </tr>\n",
              "    <tr>\n",
              "      <th>Andorra</th>\n",
              "      <td>0</td>\n",
              "      <td>0</td>\n",
              "      <td>0</td>\n",
              "      <td>0</td>\n",
              "      <td>0</td>\n",
              "      <td>0</td>\n",
              "      <td>0</td>\n",
              "      <td>0</td>\n",
              "      <td>0</td>\n",
              "      <td>0</td>\n",
              "      <td>0</td>\n",
              "      <td>0</td>\n",
              "      <td>0</td>\n",
              "      <td>0</td>\n",
              "      <td>0</td>\n",
              "      <td>0</td>\n",
              "      <td>0</td>\n",
              "      <td>0</td>\n",
              "      <td>0</td>\n",
              "      <td>0</td>\n",
              "      <td>0</td>\n",
              "      <td>0</td>\n",
              "      <td>0</td>\n",
              "      <td>0</td>\n",
              "      <td>0</td>\n",
              "      <td>0</td>\n",
              "      <td>0</td>\n",
              "      <td>0</td>\n",
              "      <td>0</td>\n",
              "      <td>0</td>\n",
              "      <td>0</td>\n",
              "      <td>0</td>\n",
              "      <td>0</td>\n",
              "      <td>0</td>\n",
              "      <td>0</td>\n",
              "      <td>0</td>\n",
              "      <td>0</td>\n",
              "      <td>0</td>\n",
              "      <td>0</td>\n",
              "      <td>0</td>\n",
              "      <td>...</td>\n",
              "      <td>10463</td>\n",
              "      <td>10503</td>\n",
              "      <td>10538</td>\n",
              "      <td>10555</td>\n",
              "      <td>10583</td>\n",
              "      <td>10610</td>\n",
              "      <td>10645</td>\n",
              "      <td>10672</td>\n",
              "      <td>10699</td>\n",
              "      <td>10712</td>\n",
              "      <td>10739</td>\n",
              "      <td>10775</td>\n",
              "      <td>10799</td>\n",
              "      <td>10822</td>\n",
              "      <td>10849</td>\n",
              "      <td>10866</td>\n",
              "      <td>10889</td>\n",
              "      <td>10908</td>\n",
              "      <td>10948</td>\n",
              "      <td>10976</td>\n",
              "      <td>10998</td>\n",
              "      <td>11019</td>\n",
              "      <td>11042</td>\n",
              "      <td>11069</td>\n",
              "      <td>11089</td>\n",
              "      <td>11130</td>\n",
              "      <td>11130</td>\n",
              "      <td>11199</td>\n",
              "      <td>11228</td>\n",
              "      <td>11266</td>\n",
              "      <td>11289</td>\n",
              "      <td>11319</td>\n",
              "      <td>11360</td>\n",
              "      <td>11393</td>\n",
              "      <td>11431</td>\n",
              "      <td>11481</td>\n",
              "      <td>11517</td>\n",
              "      <td>11545</td>\n",
              "      <td>11591</td>\n",
              "      <td>11638</td>\n",
              "    </tr>\n",
              "    <tr>\n",
              "      <th>Angola</th>\n",
              "      <td>0</td>\n",
              "      <td>0</td>\n",
              "      <td>0</td>\n",
              "      <td>0</td>\n",
              "      <td>0</td>\n",
              "      <td>0</td>\n",
              "      <td>0</td>\n",
              "      <td>0</td>\n",
              "      <td>0</td>\n",
              "      <td>0</td>\n",
              "      <td>0</td>\n",
              "      <td>0</td>\n",
              "      <td>0</td>\n",
              "      <td>0</td>\n",
              "      <td>0</td>\n",
              "      <td>0</td>\n",
              "      <td>0</td>\n",
              "      <td>0</td>\n",
              "      <td>0</td>\n",
              "      <td>0</td>\n",
              "      <td>0</td>\n",
              "      <td>0</td>\n",
              "      <td>0</td>\n",
              "      <td>0</td>\n",
              "      <td>0</td>\n",
              "      <td>0</td>\n",
              "      <td>0</td>\n",
              "      <td>0</td>\n",
              "      <td>0</td>\n",
              "      <td>0</td>\n",
              "      <td>0</td>\n",
              "      <td>0</td>\n",
              "      <td>0</td>\n",
              "      <td>0</td>\n",
              "      <td>0</td>\n",
              "      <td>0</td>\n",
              "      <td>0</td>\n",
              "      <td>0</td>\n",
              "      <td>0</td>\n",
              "      <td>0</td>\n",
              "      <td>...</td>\n",
              "      <td>20329</td>\n",
              "      <td>20366</td>\n",
              "      <td>20381</td>\n",
              "      <td>20389</td>\n",
              "      <td>20400</td>\n",
              "      <td>20452</td>\n",
              "      <td>20478</td>\n",
              "      <td>20499</td>\n",
              "      <td>20519</td>\n",
              "      <td>20548</td>\n",
              "      <td>20584</td>\n",
              "      <td>20640</td>\n",
              "      <td>20695</td>\n",
              "      <td>20759</td>\n",
              "      <td>20782</td>\n",
              "      <td>20807</td>\n",
              "      <td>20854</td>\n",
              "      <td>20882</td>\n",
              "      <td>20923</td>\n",
              "      <td>20981</td>\n",
              "      <td>21026</td>\n",
              "      <td>21055</td>\n",
              "      <td>21086</td>\n",
              "      <td>21108</td>\n",
              "      <td>21114</td>\n",
              "      <td>21161</td>\n",
              "      <td>21205</td>\n",
              "      <td>21265</td>\n",
              "      <td>21323</td>\n",
              "      <td>21380</td>\n",
              "      <td>21407</td>\n",
              "      <td>21446</td>\n",
              "      <td>21489</td>\n",
              "      <td>21558</td>\n",
              "      <td>21642</td>\n",
              "      <td>21696</td>\n",
              "      <td>21733</td>\n",
              "      <td>21757</td>\n",
              "      <td>21774</td>\n",
              "      <td>21836</td>\n",
              "    </tr>\n",
              "  </tbody>\n",
              "</table>\n",
              "<p>5 rows × 428 columns</p>\n",
              "</div>"
            ],
            "text/plain": [
              "                1/22/20  1/23/20  1/24/20  ...  3/22/21  3/23/21  3/24/21\n",
              "Country/Region                             ...                           \n",
              "Afghanistan           0        0        0  ...    56153    56177    56192\n",
              "Albania               0        0        0  ...   121544   121847   122295\n",
              "Algeria               0        0        0  ...   116255   116349   116438\n",
              "Andorra               0        0        0  ...    11545    11591    11638\n",
              "Angola                0        0        0  ...    21757    21774    21836\n",
              "\n",
              "[5 rows x 428 columns]"
            ]
          },
          "metadata": {
            "tags": []
          },
          "execution_count": 8
        }
      ]
    },
    {
      "cell_type": "code",
      "metadata": {
        "id": "BNVTVJQ_hWv1"
      },
      "source": [
        "brasil_covid19 = dados_covid19.loc['Brazil'].to_frame()\n",
        "brasil_covid19['novos_casos'] = brasil_covid19['Brazil'].diff()"
      ],
      "execution_count": 9,
      "outputs": []
    },
    {
      "cell_type": "code",
      "metadata": {
        "id": "RKWI6ciAinVm"
      },
      "source": [
        "brasil_covid19 = brasil_covid19.rename({'Brazil': 'total_casos_confirmados'}, axis = 1)"
      ],
      "execution_count": 10,
      "outputs": []
    },
    {
      "cell_type": "code",
      "metadata": {
        "colab": {
          "base_uri": "https://localhost:8080/",
          "height": 204
        },
        "id": "9MjiPiaehW0n",
        "outputId": "77a1eda3-9b00-48df-b8c9-9f90541896c9"
      },
      "source": [
        "brasil_covid19.head()"
      ],
      "execution_count": 11,
      "outputs": [
        {
          "output_type": "execute_result",
          "data": {
            "text/html": [
              "<div>\n",
              "<style scoped>\n",
              "    .dataframe tbody tr th:only-of-type {\n",
              "        vertical-align: middle;\n",
              "    }\n",
              "\n",
              "    .dataframe tbody tr th {\n",
              "        vertical-align: top;\n",
              "    }\n",
              "\n",
              "    .dataframe thead th {\n",
              "        text-align: right;\n",
              "    }\n",
              "</style>\n",
              "<table border=\"1\" class=\"dataframe\">\n",
              "  <thead>\n",
              "    <tr style=\"text-align: right;\">\n",
              "      <th></th>\n",
              "      <th>total_casos_confirmados</th>\n",
              "      <th>novos_casos</th>\n",
              "    </tr>\n",
              "  </thead>\n",
              "  <tbody>\n",
              "    <tr>\n",
              "      <th>1/22/20</th>\n",
              "      <td>0</td>\n",
              "      <td>NaN</td>\n",
              "    </tr>\n",
              "    <tr>\n",
              "      <th>1/23/20</th>\n",
              "      <td>0</td>\n",
              "      <td>0.0</td>\n",
              "    </tr>\n",
              "    <tr>\n",
              "      <th>1/24/20</th>\n",
              "      <td>0</td>\n",
              "      <td>0.0</td>\n",
              "    </tr>\n",
              "    <tr>\n",
              "      <th>1/25/20</th>\n",
              "      <td>0</td>\n",
              "      <td>0.0</td>\n",
              "    </tr>\n",
              "    <tr>\n",
              "      <th>1/26/20</th>\n",
              "      <td>0</td>\n",
              "      <td>0.0</td>\n",
              "    </tr>\n",
              "  </tbody>\n",
              "</table>\n",
              "</div>"
            ],
            "text/plain": [
              "         total_casos_confirmados  novos_casos\n",
              "1/22/20                        0          NaN\n",
              "1/23/20                        0          0.0\n",
              "1/24/20                        0          0.0\n",
              "1/25/20                        0          0.0\n",
              "1/26/20                        0          0.0"
            ]
          },
          "metadata": {
            "tags": []
          },
          "execution_count": 11
        }
      ]
    },
    {
      "cell_type": "markdown",
      "metadata": {
        "id": "NkAc7b4kNjtj"
      },
      "source": [
        "- Visualizando o crescimento dos casos do Brasil."
      ]
    },
    {
      "cell_type": "code",
      "metadata": {
        "colab": {
          "base_uri": "https://localhost:8080/",
          "height": 390
        },
        "id": "A_b8a11xNP3d",
        "outputId": "b27ddb21-eaf6-4d56-bfdc-37dc90d24f7a"
      },
      "source": [
        "brasil_covid19['total_casos_confirmados'].plot(figsize=(12,6))\n",
        "plt.title('Crescimento do total de casos confirmados de covid-19 no Brasil ')\n",
        "plt.show()"
      ],
      "execution_count": 12,
      "outputs": [
        {
          "output_type": "display_data",
          "data": {
            "image/png": "[encoded data removed]",
            "text/plain": [
              "<Figure size 864x432 with 1 Axes>"
            ]
          },
          "metadata": {
            "tags": [],
            "needs_background": "light"
          }
        }
      ]
    },
    {
      "cell_type": "code",
      "metadata": {
        "colab": {
          "base_uri": "https://localhost:8080/",
          "height": 204
        },
        "id": "ax6TwooukG7l",
        "outputId": "f471309c-2fde-4649-84c2-9454a77efb4b"
      },
      "source": [
        "# pd.set_option('display.max_rows',500)\n",
        "brasil_covid19.head()"
      ],
      "execution_count": 13,
      "outputs": [
        {
          "output_type": "execute_result",
          "data": {
            "text/html": [
              "<div>\n",
              "<style scoped>\n",
              "    .dataframe tbody tr th:only-of-type {\n",
              "        vertical-align: middle;\n",
              "    }\n",
              "\n",
              "    .dataframe tbody tr th {\n",
              "        vertical-align: top;\n",
              "    }\n",
              "\n",
              "    .dataframe thead th {\n",
              "        text-align: right;\n",
              "    }\n",
              "</style>\n",
              "<table border=\"1\" class=\"dataframe\">\n",
              "  <thead>\n",
              "    <tr style=\"text-align: right;\">\n",
              "      <th></th>\n",
              "      <th>total_casos_confirmados</th>\n",
              "      <th>novos_casos</th>\n",
              "    </tr>\n",
              "  </thead>\n",
              "  <tbody>\n",
              "    <tr>\n",
              "      <th>1/22/20</th>\n",
              "      <td>0</td>\n",
              "      <td>NaN</td>\n",
              "    </tr>\n",
              "    <tr>\n",
              "      <th>1/23/20</th>\n",
              "      <td>0</td>\n",
              "      <td>0.0</td>\n",
              "    </tr>\n",
              "    <tr>\n",
              "      <th>1/24/20</th>\n",
              "      <td>0</td>\n",
              "      <td>0.0</td>\n",
              "    </tr>\n",
              "    <tr>\n",
              "      <th>1/25/20</th>\n",
              "      <td>0</td>\n",
              "      <td>0.0</td>\n",
              "    </tr>\n",
              "    <tr>\n",
              "      <th>1/26/20</th>\n",
              "      <td>0</td>\n",
              "      <td>0.0</td>\n",
              "    </tr>\n",
              "  </tbody>\n",
              "</table>\n",
              "</div>"
            ],
            "text/plain": [
              "         total_casos_confirmados  novos_casos\n",
              "1/22/20                        0          NaN\n",
              "1/23/20                        0          0.0\n",
              "1/24/20                        0          0.0\n",
              "1/25/20                        0          0.0\n",
              "1/26/20                        0          0.0"
            ]
          },
          "metadata": {
            "tags": []
          },
          "execution_count": 13
        }
      ]
    },
    {
      "cell_type": "markdown",
      "metadata": {
        "id": "i3R8GpnGYvMP"
      },
      "source": [
        "- Visializando o crescimento diário  dos novos casos."
      ]
    },
    {
      "cell_type": "code",
      "metadata": {
        "colab": {
          "base_uri": "https://localhost:8080/",
          "height": 390
        },
        "id": "IEoPdEh_YttV",
        "outputId": "38d5c260-7c7d-4353-a6ea-d1cca270051d"
      },
      "source": [
        "brasil_covid19['novos_casos'].plot(figsize=(12,6))\n",
        "plt.title('Crescimento diário dos casos confirmados de covid-19 no Brasil ')\n",
        "plt.show()"
      ],
      "execution_count": 14,
      "outputs": [
        {
          "output_type": "display_data",
          "data": {
            "image/png": "[encoded data removed]",
            "text/plain": [
              "<Figure size 864x432 with 1 Axes>"
            ]
          },
          "metadata": {
            "tags": [],
            "needs_background": "light"
          }
        }
      ]
    },
    {
      "cell_type": "markdown",
      "metadata": {
        "id": "Ar3T_HWMTIQy"
      },
      "source": [
        "## 2.1 Tratando os dados do dataset dos óbitos confirmados da covid-19. "
      ]
    },
    {
      "cell_type": "code",
      "metadata": {
        "id": "ogv0erBgTeN9"
      },
      "source": [
        "dados_deaths_covid19 = dados_deaths_covid19.groupby('Country/Region').sum()\n",
        "dados_deaths_covid19 = dados_deaths_covid19.drop(columns=['Lat','Long'],axis=1)"
      ],
      "execution_count": 15,
      "outputs": []
    },
    {
      "cell_type": "code",
      "metadata": {
        "id": "-nsz3pPIlmP7"
      },
      "source": [
        "brasil_covid19['total_mortes'] = dados_deaths_covid19.loc['Brazil']"
      ],
      "execution_count": 16,
      "outputs": []
    },
    {
      "cell_type": "code",
      "metadata": {
        "colab": {
          "base_uri": "https://localhost:8080/",
          "height": 204
        },
        "id": "qTGbhkuVlypg",
        "outputId": "cc64d600-2c2b-4b5d-fe80-e5a1c2287d4c"
      },
      "source": [
        "brasil_covid19.head()"
      ],
      "execution_count": 17,
      "outputs": [
        {
          "output_type": "execute_result",
          "data": {
            "text/html": [
              "<div>\n",
              "<style scoped>\n",
              "    .dataframe tbody tr th:only-of-type {\n",
              "        vertical-align: middle;\n",
              "    }\n",
              "\n",
              "    .dataframe tbody tr th {\n",
              "        vertical-align: top;\n",
              "    }\n",
              "\n",
              "    .dataframe thead th {\n",
              "        text-align: right;\n",
              "    }\n",
              "</style>\n",
              "<table border=\"1\" class=\"dataframe\">\n",
              "  <thead>\n",
              "    <tr style=\"text-align: right;\">\n",
              "      <th></th>\n",
              "      <th>total_casos_confirmados</th>\n",
              "      <th>novos_casos</th>\n",
              "      <th>total_mortes</th>\n",
              "    </tr>\n",
              "  </thead>\n",
              "  <tbody>\n",
              "    <tr>\n",
              "      <th>1/22/20</th>\n",
              "      <td>0</td>\n",
              "      <td>NaN</td>\n",
              "      <td>0</td>\n",
              "    </tr>\n",
              "    <tr>\n",
              "      <th>1/23/20</th>\n",
              "      <td>0</td>\n",
              "      <td>0.0</td>\n",
              "      <td>0</td>\n",
              "    </tr>\n",
              "    <tr>\n",
              "      <th>1/24/20</th>\n",
              "      <td>0</td>\n",
              "      <td>0.0</td>\n",
              "      <td>0</td>\n",
              "    </tr>\n",
              "    <tr>\n",
              "      <th>1/25/20</th>\n",
              "      <td>0</td>\n",
              "      <td>0.0</td>\n",
              "      <td>0</td>\n",
              "    </tr>\n",
              "    <tr>\n",
              "      <th>1/26/20</th>\n",
              "      <td>0</td>\n",
              "      <td>0.0</td>\n",
              "      <td>0</td>\n",
              "    </tr>\n",
              "  </tbody>\n",
              "</table>\n",
              "</div>"
            ],
            "text/plain": [
              "         total_casos_confirmados  novos_casos  total_mortes\n",
              "1/22/20                        0          NaN             0\n",
              "1/23/20                        0          0.0             0\n",
              "1/24/20                        0          0.0             0\n",
              "1/25/20                        0          0.0             0\n",
              "1/26/20                        0          0.0             0"
            ]
          },
          "metadata": {
            "tags": []
          },
          "execution_count": 17
        }
      ]
    },
    {
      "cell_type": "markdown",
      "metadata": {
        "id": "Mr_tnbJBl61g"
      },
      "source": [
        "- Criando a coluna referente ao crescimento diário das mortes por covid-19."
      ]
    },
    {
      "cell_type": "code",
      "metadata": {
        "id": "18NjZcH3l5Xr"
      },
      "source": [
        "brasil_covid19['mortes_por_dia'] = brasil_covid19['total_mortes'].diff()"
      ],
      "execution_count": 18,
      "outputs": []
    },
    {
      "cell_type": "markdown",
      "metadata": {
        "id": "t_jdZvjSmq31"
      },
      "source": [
        "- Visualizando o crescimento do total de óbitos no Brasil pela covid-19."
      ]
    },
    {
      "cell_type": "code",
      "metadata": {
        "colab": {
          "base_uri": "https://localhost:8080/",
          "height": 392
        },
        "id": "ohe3W_gATcn7",
        "outputId": "bdd8b2bb-866a-4b6f-9386-fa478fb3ed38"
      },
      "source": [
        "plt.figure(figsize=(12,6))\n",
        "brasil_covid19['total_mortes'].plot()\n",
        "plt.title('Óbitos confirmados pela covid-19 no Brasil ')\n",
        "plt.show()"
      ],
      "execution_count": 19,
      "outputs": [
        {
          "output_type": "display_data",
          "data": {
            "image/png": "[encoded data removed]",
            "text/plain": [
              "<Figure size 864x432 with 1 Axes>"
            ]
          },
          "metadata": {
            "tags": [],
            "needs_background": "light"
          }
        }
      ]
    },
    {
      "cell_type": "markdown",
      "metadata": {
        "id": "6nVGUi3cnGSI"
      },
      "source": [
        "- Visualizando os óbitos por dia durante a pandemia covid-19 no Brasil. "
      ]
    },
    {
      "cell_type": "code",
      "metadata": {
        "colab": {
          "base_uri": "https://localhost:8080/",
          "height": 392
        },
        "id": "SWXwT_ZyesAb",
        "outputId": "6d257deb-d436-4e25-aa9d-db20ab02715a"
      },
      "source": [
        "plt.figure(figsize=(12,6))\n",
        "brasil_covid19['mortes_por_dia'].plot()\n",
        "plt.title('Óbitos confirmados pela covid-19 no Brasil ')\n",
        "plt.show()"
      ],
      "execution_count": 20,
      "outputs": [
        {
          "output_type": "display_data",
          "data": {
            "image/png": "[encoded data removed]",
            "text/plain": [
              "<Figure size 864x432 with 1 Axes>"
            ]
          },
          "metadata": {
            "tags": [],
            "needs_background": "light"
          }
        }
      ]
    },
    {
      "cell_type": "markdown",
      "metadata": {
        "id": "wS2iAZtCneHb"
      },
      "source": [
        "## 2.2 Tratando os dados do dataset dos recuperados da covid-19."
      ]
    },
    {
      "cell_type": "code",
      "metadata": {
        "id": "QrAXIbkOesF5"
      },
      "source": [
        "dados_recovered_covid19 = dados_recovered_covid19.drop(columns=['Province/State', 'Lat','Long'])\n",
        "dados_recovered_covid19 = dados_recovered_covid19.set_index('Country/Region')"
      ],
      "execution_count": 21,
      "outputs": []
    },
    {
      "cell_type": "code",
      "metadata": {
        "id": "juscG9GPnlEt"
      },
      "source": [
        "brasil_covid19['total_recuperados'] = dados_recovered_covid19.loc['Brazil']"
      ],
      "execution_count": 22,
      "outputs": []
    },
    {
      "cell_type": "code",
      "metadata": {
        "id": "jFSTpOLposAE"
      },
      "source": [
        "brasil_covid19['recuperados_por_dia'] = brasil_covid19['total_recuperados'].diff()"
      ],
      "execution_count": 23,
      "outputs": []
    },
    {
      "cell_type": "code",
      "metadata": {
        "colab": {
          "base_uri": "https://localhost:8080/",
          "height": 204
        },
        "id": "RCgNYv1LnlKv",
        "outputId": "2461377f-d804-47df-dab6-9ccf3b4e25d3"
      },
      "source": [
        "brasil_covid19.head()"
      ],
      "execution_count": 24,
      "outputs": [
        {
          "output_type": "execute_result",
          "data": {
            "text/html": [
              "<div>\n",
              "<style scoped>\n",
              "    .dataframe tbody tr th:only-of-type {\n",
              "        vertical-align: middle;\n",
              "    }\n",
              "\n",
              "    .dataframe tbody tr th {\n",
              "        vertical-align: top;\n",
              "    }\n",
              "\n",
              "    .dataframe thead th {\n",
              "        text-align: right;\n",
              "    }\n",
              "</style>\n",
              "<table border=\"1\" class=\"dataframe\">\n",
              "  <thead>\n",
              "    <tr style=\"text-align: right;\">\n",
              "      <th></th>\n",
              "      <th>total_casos_confirmados</th>\n",
              "      <th>novos_casos</th>\n",
              "      <th>total_mortes</th>\n",
              "      <th>mortes_por_dia</th>\n",
              "      <th>total_recuperados</th>\n",
              "      <th>recuperados_por_dia</th>\n",
              "    </tr>\n",
              "  </thead>\n",
              "  <tbody>\n",
              "    <tr>\n",
              "      <th>1/22/20</th>\n",
              "      <td>0</td>\n",
              "      <td>NaN</td>\n",
              "      <td>0</td>\n",
              "      <td>NaN</td>\n",
              "      <td>0</td>\n",
              "      <td>NaN</td>\n",
              "    </tr>\n",
              "    <tr>\n",
              "      <th>1/23/20</th>\n",
              "      <td>0</td>\n",
              "      <td>0.0</td>\n",
              "      <td>0</td>\n",
              "      <td>0.0</td>\n",
              "      <td>0</td>\n",
              "      <td>0.0</td>\n",
              "    </tr>\n",
              "    <tr>\n",
              "      <th>1/24/20</th>\n",
              "      <td>0</td>\n",
              "      <td>0.0</td>\n",
              "      <td>0</td>\n",
              "      <td>0.0</td>\n",
              "      <td>0</td>\n",
              "      <td>0.0</td>\n",
              "    </tr>\n",
              "    <tr>\n",
              "      <th>1/25/20</th>\n",
              "      <td>0</td>\n",
              "      <td>0.0</td>\n",
              "      <td>0</td>\n",
              "      <td>0.0</td>\n",
              "      <td>0</td>\n",
              "      <td>0.0</td>\n",
              "    </tr>\n",
              "    <tr>\n",
              "      <th>1/26/20</th>\n",
              "      <td>0</td>\n",
              "      <td>0.0</td>\n",
              "      <td>0</td>\n",
              "      <td>0.0</td>\n",
              "      <td>0</td>\n",
              "      <td>0.0</td>\n",
              "    </tr>\n",
              "  </tbody>\n",
              "</table>\n",
              "</div>"
            ],
            "text/plain": [
              "         total_casos_confirmados  ...  recuperados_por_dia\n",
              "1/22/20                        0  ...                  NaN\n",
              "1/23/20                        0  ...                  0.0\n",
              "1/24/20                        0  ...                  0.0\n",
              "1/25/20                        0  ...                  0.0\n",
              "1/26/20                        0  ...                  0.0\n",
              "\n",
              "[5 rows x 6 columns]"
            ]
          },
          "metadata": {
            "tags": []
          },
          "execution_count": 24
        }
      ]
    },
    {
      "cell_type": "markdown",
      "metadata": {
        "id": "S9CxVY0jo1j3"
      },
      "source": [
        "- Visualizando o crescimento do total dos recuperados no Brasil da covid-19."
      ]
    },
    {
      "cell_type": "code",
      "metadata": {
        "colab": {
          "base_uri": "https://localhost:8080/",
          "height": 390
        },
        "id": "rTQD4TscnlO9",
        "outputId": "25a79b31-173d-404d-c334-aabe4a149737"
      },
      "source": [
        "plt.figure(figsize=(12,6))\n",
        "brasil_covid19['total_recuperados'].plot()\n",
        "plt.title('Recuperados confirmados pela covid-19 no Brasil ')\n",
        "plt.show()"
      ],
      "execution_count": 25,
      "outputs": [
        {
          "output_type": "display_data",
          "data": {
            "image/png": "[encoded data removed]",
            "text/plain": [
              "<Figure size 864x432 with 1 Axes>"
            ]
          },
          "metadata": {
            "tags": [],
            "needs_background": "light"
          }
        }
      ]
    },
    {
      "cell_type": "markdown",
      "metadata": {
        "id": "5RJfbolPpXd-"
      },
      "source": [
        "- Visualizando os recuperados por dia no Brasil da covid-19."
      ]
    },
    {
      "cell_type": "code",
      "metadata": {
        "colab": {
          "base_uri": "https://localhost:8080/",
          "height": 390
        },
        "id": "0eO4JWRCesIj",
        "outputId": "d8d8b300-ee5f-4a7d-9214-d7f703c32afd"
      },
      "source": [
        "plt.figure(figsize=(12,6))\n",
        "brasil_covid19['recuperados_por_dia'].plot()\n",
        "plt.title('Recuperados confirmados pela covid-19 no Brasil ')\n",
        "plt.show()"
      ],
      "execution_count": 26,
      "outputs": [
        {
          "output_type": "display_data",
          "data": {
            "image/png": "[encoded data removed]",
            "text/plain": [
              "<Figure size 864x432 with 1 Axes>"
            ]
          },
          "metadata": {
            "tags": [],
            "needs_background": "light"
          }
        }
      ]
    },
    {
      "cell_type": "code",
      "metadata": {
        "colab": {
          "base_uri": "https://localhost:8080/",
          "height": 297
        },
        "id": "R6zJLKA0pmNN",
        "outputId": "4bf5d85d-027c-4e26-bef1-8770e9eb88ae"
      },
      "source": [
        "brasil_covid19.describe().round(2)"
      ],
      "execution_count": 27,
      "outputs": [
        {
          "output_type": "execute_result",
          "data": {
            "text/html": [
              "<div>\n",
              "<style scoped>\n",
              "    .dataframe tbody tr th:only-of-type {\n",
              "        vertical-align: middle;\n",
              "    }\n",
              "\n",
              "    .dataframe tbody tr th {\n",
              "        vertical-align: top;\n",
              "    }\n",
              "\n",
              "    .dataframe thead th {\n",
              "        text-align: right;\n",
              "    }\n",
              "</style>\n",
              "<table border=\"1\" class=\"dataframe\">\n",
              "  <thead>\n",
              "    <tr style=\"text-align: right;\">\n",
              "      <th></th>\n",
              "      <th>total_casos_confirmados</th>\n",
              "      <th>novos_casos</th>\n",
              "      <th>total_mortes</th>\n",
              "      <th>mortes_por_dia</th>\n",
              "      <th>total_recuperados</th>\n",
              "      <th>recuperados_por_dia</th>\n",
              "    </tr>\n",
              "  </thead>\n",
              "  <tbody>\n",
              "    <tr>\n",
              "      <th>count</th>\n",
              "      <td>428.00</td>\n",
              "      <td>427.00</td>\n",
              "      <td>428.00</td>\n",
              "      <td>427.00</td>\n",
              "      <td>428.00</td>\n",
              "      <td>427.00</td>\n",
              "    </tr>\n",
              "    <tr>\n",
              "      <th>mean</th>\n",
              "      <td>3976281.23</td>\n",
              "      <td>28618.29</td>\n",
              "      <td>109600.57</td>\n",
              "      <td>704.18</td>\n",
              "      <td>3444427.55</td>\n",
              "      <td>25175.95</td>\n",
              "    </tr>\n",
              "    <tr>\n",
              "      <th>std</th>\n",
              "      <td>3687388.74</td>\n",
              "      <td>23352.85</td>\n",
              "      <td>89624.20</td>\n",
              "      <td>561.14</td>\n",
              "      <td>3325520.27</td>\n",
              "      <td>30561.33</td>\n",
              "    </tr>\n",
              "    <tr>\n",
              "      <th>min</th>\n",
              "      <td>0.00</td>\n",
              "      <td>0.00</td>\n",
              "      <td>0.00</td>\n",
              "      <td>0.00</td>\n",
              "      <td>0.00</td>\n",
              "      <td>0.00</td>\n",
              "    </tr>\n",
              "    <tr>\n",
              "      <th>25%</th>\n",
              "      <td>144113.75</td>\n",
              "      <td>6544.00</td>\n",
              "      <td>9810.25</td>\n",
              "      <td>231.00</td>\n",
              "      <td>58310.25</td>\n",
              "      <td>1.00</td>\n",
              "    </tr>\n",
              "    <tr>\n",
              "      <th>50%</th>\n",
              "      <td>3594072.50</td>\n",
              "      <td>26051.00</td>\n",
              "      <td>114497.00</td>\n",
              "      <td>654.00</td>\n",
              "      <td>2930875.00</td>\n",
              "      <td>20768.00</td>\n",
              "    </tr>\n",
              "    <tr>\n",
              "      <th>75%</th>\n",
              "      <td>6636683.00</td>\n",
              "      <td>46786.00</td>\n",
              "      <td>177527.50</td>\n",
              "      <td>1112.00</td>\n",
              "      <td>5914517.50</td>\n",
              "      <td>39084.00</td>\n",
              "    </tr>\n",
              "    <tr>\n",
              "      <th>max</th>\n",
              "      <td>12220011.00</td>\n",
              "      <td>90570.00</td>\n",
              "      <td>300685.00</td>\n",
              "      <td>3251.00</td>\n",
              "      <td>10750131.00</td>\n",
              "      <td>388340.00</td>\n",
              "    </tr>\n",
              "  </tbody>\n",
              "</table>\n",
              "</div>"
            ],
            "text/plain": [
              "       total_casos_confirmados  ...  recuperados_por_dia\n",
              "count                   428.00  ...               427.00\n",
              "mean                3976281.23  ...             25175.95\n",
              "std                 3687388.74  ...             30561.33\n",
              "min                       0.00  ...                 0.00\n",
              "25%                  144113.75  ...                 1.00\n",
              "50%                 3594072.50  ...             20768.00\n",
              "75%                 6636683.00  ...             39084.00\n",
              "max                12220011.00  ...            388340.00\n",
              "\n",
              "[8 rows x 6 columns]"
            ]
          },
          "metadata": {
            "tags": []
          },
          "execution_count": 27
        }
      ]
    },
    {
      "cell_type": "markdown",
      "metadata": {
        "id": "cZScAJJEtrkV"
      },
      "source": [
        "## 3.0 Calculando a taxa de letalidade da covid-19 no Brasil."
      ]
    },
    {
      "cell_type": "code",
      "metadata": {
        "colab": {
          "base_uri": "https://localhost:8080/"
        },
        "id": "v0zYiynGpmTO",
        "outputId": "ded0e979-c045-4de5-ba70-d09507f3d92f"
      },
      "source": [
        "brasil_covid19.sum()"
      ],
      "execution_count": 28,
      "outputs": [
        {
          "output_type": "execute_result",
          "data": {
            "text/plain": [
              "total_casos_confirmados    1.701848e+09\n",
              "novos_casos                1.222001e+07\n",
              "total_mortes               4.690904e+07\n",
              "mortes_por_dia             3.006850e+05\n",
              "total_recuperados          1.474215e+09\n",
              "recuperados_por_dia        1.075013e+07\n",
              "dtype: float64"
            ]
          },
          "metadata": {
            "tags": []
          },
          "execution_count": 28
        }
      ]
    },
    {
      "cell_type": "code",
      "metadata": {
        "id": "nJy7hlKbpmaJ"
      },
      "source": [
        ""
      ],
      "execution_count": 27,
      "outputs": []
    },
    {
      "cell_type": "code",
      "metadata": {
        "id": "1EnZTH5-pmgg"
      },
      "source": [
        ""
      ],
      "execution_count": 27,
      "outputs": []
    },
    {
      "cell_type": "code",
      "metadata": {
        "id": "Kw9v80cPpmkV"
      },
      "source": [
        ""
      ],
      "execution_count": 27,
      "outputs": []
    },
    {
      "cell_type": "code",
      "metadata": {
        "id": "RNPxmxaFoKoN"
      },
      "source": [
        ""
      ],
      "execution_count": 27,
      "outputs": []
    },
    {
      "cell_type": "code",
      "metadata": {
        "id": "LFzk8VClpPbu"
      },
      "source": [
        ""
      ],
      "execution_count": 27,
      "outputs": []
    },
    {
      "cell_type": "code",
      "metadata": {
        "id": "6DxT6nHHpPhz"
      },
      "source": [
        ""
      ],
      "execution_count": 27,
      "outputs": []
    },
    {
      "cell_type": "code",
      "metadata": {
        "id": "N-jHHFs1pPmr"
      },
      "source": [
        ""
      ],
      "execution_count": 27,
      "outputs": []
    },
    {
      "cell_type": "code",
      "metadata": {
        "id": "HS9UTFrKoKvK"
      },
      "source": [
        ""
      ],
      "execution_count": 27,
      "outputs": []
    },
    {
      "cell_type": "code",
      "metadata": {
        "id": "BuL0BRTkoK0Y"
      },
      "source": [
        ""
      ],
      "execution_count": 27,
      "outputs": []
    }
  ]
}